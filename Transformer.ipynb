{
  "cells": [
    {
      "cell_type": "code",
      "execution_count": 1,
      "metadata": {
        "id": "P-o8cSqBrbk6"
      },
      "outputs": [],
      "source": [
        "import torch\n",
        "import torch.nn as nn\n",
        "import torch.nn.functional as F\n",
        "from torch.utils.data import Dataset, random_split, DataLoader\n",
        "\n",
        "from torchvision import datasets, transforms, models\n",
        "import torchvision.transforms as transforms\n",
        "from torch.utils.data import Dataset, random_split, DataLoader\n",
        "from torchvision.utils import save_image\n",
        "\n",
        "from torchsummary import summary\n",
        "\n",
        "import spacy\n",
        "\n",
        "import numpy as np\n",
        "import pandas as pd\n",
        "import matplotlib.pyplot as plt\n",
        "\n",
        "import os\n",
        "import time\n",
        "import math\n",
        "from PIL import Image\n",
        "import glob\n",
        "from IPython.display import display"
      ]
    },
    {
      "cell_type": "code",
      "execution_count": 2,
      "metadata": {
        "colab": {
          "base_uri": "https://localhost:8080/"
        },
        "id": "4-szHb2su5GK",
        "outputId": "2e2aced3-cdae-49e4-b1c8-794980c3c43e"
      },
      "outputs": [
        {
          "output_type": "stream",
          "name": "stdout",
          "text": [
            "cuda\n"
          ]
        }
      ],
      "source": [
        "device = torch.device(\"cuda\" if torch.cuda.is_available() else \"cpu\")\n",
        "print(device)"
      ]
    },
    {
      "cell_type": "code",
      "execution_count": 3,
      "metadata": {
        "id": "bbMWBkRhvA1D"
      },
      "outputs": [],
      "source": [
        "torch.manual_seed(0)\n",
        "np.random.seed(0)"
      ]
    },
    {
      "cell_type": "code",
      "execution_count": 4,
      "metadata": {
        "id": "EGbjm6tfvCWK"
      },
      "outputs": [],
      "source": [
        "BATCH_SIZE = 64\n",
        "LR = 5e-5\n",
        "NUM_EPOCHES = 25"
      ]
    },
    {
      "cell_type": "markdown",
      "metadata": {
        "id": "n9k-81DuvG0U"
      },
      "source": [
        "### Data Pre-processing"
      ]
    },
    {
      "cell_type": "code",
      "execution_count": 5,
      "metadata": {
        "id": "fbHiAIDtvLuB"
      },
      "outputs": [],
      "source": [
        "mean, std = (0.5,), (0.5,)\n",
        "\n",
        "transform = transforms.Compose([transforms.ToTensor(),\n",
        "                                transforms.Normalize(mean, std)\n",
        "                              ])"
      ]
    },
    {
      "cell_type": "code",
      "execution_count": 6,
      "metadata": {
        "colab": {
          "base_uri": "https://localhost:8080/",
          "height": 423,
          "referenced_widgets": [
            "137016262163481486cf103262be23e7",
            "5fd0e0415bea4b2489e75f499f88c5db",
            "3e37ee7390bd4fe6bd89b82b10485b09",
            "571e8b8e2cda463db835a64c2c0da385",
            "d8122195ba684abeab2f34176d95d0b5",
            "aeabbaf7cc2240bf816dfb7b01285d39",
            "7d4139cd520b4513b723dfebd907cd23",
            "154c655c88234501a488ed4584834260",
            "2f4a5649e2fe4bfc9b0c104e986a33f9",
            "f75184c4d8654d8dbe19a79afea70eeb",
            "323248a407414cb884b9e67b08b2d0e2",
            "8c5c98af0ff7410f9a007def06622c17",
            "d61d5694ed894aadafbc6efad8901a11",
            "0bdafdb95b474a70a94404dee7a601ab",
            "7c7a4437865c4899aa07d938972a05eb",
            "e45b5248608c46a1916e0dff43aed1e9",
            "b584b00d39be4298affb78def4dc4703",
            "20233686ba784dbf8c55f0770fe03c24",
            "6047cf009bb64102aa60646a6c883656",
            "6e9f655918544e579136450a86f2a627",
            "e4fb2ab84b2a42b1826dfdfd909cf63c",
            "f91120d747b1416ebcbf2676deff6917",
            "26b0864cd8cc465bba292247553cf5cb",
            "ee3febfd78c44fccab7b7ac61dd85ac9",
            "075d7d55a3d84a3c8e835edd706477e1",
            "8bf6b4a6681749d0976116d0145109fe",
            "3bcc06909f9749bb9c4c48e3271dbfa6",
            "962b041de7a54e0da6f4d9d3e501e672",
            "89eafde24d2c4e338496b048351159ec",
            "e30b2328e6b748739aa6cbd0138fd966",
            "67d64dd47cf849938f3deb99fb559c12",
            "5ec3666b68aa4e1d9aacaa044cd2d5dd",
            "a4792c357d734c96a09f4e1bbd5d1a8b",
            "117931523e99429e9d96c7a3e5159b8f",
            "6318b6d4a82240e3939bfb2eb5a8c9fe",
            "85ad1dea228f40678cbcd2336e26e899",
            "1f86e8bda4144cb2b199d5ff4a96623c",
            "c2d7292d13ac410f94fec18af2dffa94",
            "f4b6155ee34b4845bc91c92d62710ab5",
            "79925a8ac9544a18bd23e3bc4dd11a6d",
            "c761cd8e072a49c88296967c5b9eef07",
            "54521c401734413289cb4536ff3df443",
            "1579eff8ef124e358d7ede1a54ecc5c3",
            "d17c1c93050f435695c3182d832440ee"
          ]
        },
        "id": "GsxqUJj6vpps",
        "outputId": "392a6997-16b2-43f3-8fc0-6940ced52a57"
      },
      "outputs": [
        {
          "output_type": "stream",
          "name": "stdout",
          "text": [
            "Downloading http://yann.lecun.com/exdb/mnist/train-images-idx3-ubyte.gz\n",
            "Downloading http://yann.lecun.com/exdb/mnist/train-images-idx3-ubyte.gz to ../data/MNIST/MNIST/raw/train-images-idx3-ubyte.gz\n"
          ]
        },
        {
          "output_type": "display_data",
          "data": {
            "text/plain": [
              "  0%|          | 0/9912422 [00:00<?, ?it/s]"
            ],
            "application/vnd.jupyter.widget-view+json": {
              "version_major": 2,
              "version_minor": 0,
              "model_id": "137016262163481486cf103262be23e7"
            }
          },
          "metadata": {}
        },
        {
          "output_type": "stream",
          "name": "stdout",
          "text": [
            "Extracting ../data/MNIST/MNIST/raw/train-images-idx3-ubyte.gz to ../data/MNIST/MNIST/raw\n",
            "\n",
            "Downloading http://yann.lecun.com/exdb/mnist/train-labels-idx1-ubyte.gz\n",
            "Downloading http://yann.lecun.com/exdb/mnist/train-labels-idx1-ubyte.gz to ../data/MNIST/MNIST/raw/train-labels-idx1-ubyte.gz\n"
          ]
        },
        {
          "output_type": "display_data",
          "data": {
            "text/plain": [
              "  0%|          | 0/28881 [00:00<?, ?it/s]"
            ],
            "application/vnd.jupyter.widget-view+json": {
              "version_major": 2,
              "version_minor": 0,
              "model_id": "8c5c98af0ff7410f9a007def06622c17"
            }
          },
          "metadata": {}
        },
        {
          "output_type": "stream",
          "name": "stdout",
          "text": [
            "Extracting ../data/MNIST/MNIST/raw/train-labels-idx1-ubyte.gz to ../data/MNIST/MNIST/raw\n",
            "\n",
            "Downloading http://yann.lecun.com/exdb/mnist/t10k-images-idx3-ubyte.gz\n",
            "Downloading http://yann.lecun.com/exdb/mnist/t10k-images-idx3-ubyte.gz to ../data/MNIST/MNIST/raw/t10k-images-idx3-ubyte.gz\n"
          ]
        },
        {
          "output_type": "display_data",
          "data": {
            "text/plain": [
              "  0%|          | 0/1648877 [00:00<?, ?it/s]"
            ],
            "application/vnd.jupyter.widget-view+json": {
              "version_major": 2,
              "version_minor": 0,
              "model_id": "26b0864cd8cc465bba292247553cf5cb"
            }
          },
          "metadata": {}
        },
        {
          "output_type": "stream",
          "name": "stdout",
          "text": [
            "Extracting ../data/MNIST/MNIST/raw/t10k-images-idx3-ubyte.gz to ../data/MNIST/MNIST/raw\n",
            "\n",
            "Downloading http://yann.lecun.com/exdb/mnist/t10k-labels-idx1-ubyte.gz\n",
            "Downloading http://yann.lecun.com/exdb/mnist/t10k-labels-idx1-ubyte.gz to ../data/MNIST/MNIST/raw/t10k-labels-idx1-ubyte.gz\n"
          ]
        },
        {
          "output_type": "display_data",
          "data": {
            "text/plain": [
              "  0%|          | 0/4542 [00:00<?, ?it/s]"
            ],
            "application/vnd.jupyter.widget-view+json": {
              "version_major": 2,
              "version_minor": 0,
              "model_id": "117931523e99429e9d96c7a3e5159b8f"
            }
          },
          "metadata": {}
        },
        {
          "output_type": "stream",
          "name": "stdout",
          "text": [
            "Extracting ../data/MNIST/MNIST/raw/t10k-labels-idx1-ubyte.gz to ../data/MNIST/MNIST/raw\n",
            "\n"
          ]
        }
      ],
      "source": [
        "trainset = datasets.MNIST('../data/MNIST/', download=True, train=True, transform=transform)\n",
        "trainloader = torch.utils.data.DataLoader(trainset, batch_size=BATCH_SIZE, shuffle=True)\n",
        "\n",
        "testset = datasets.MNIST('../data/MNIST/', download=True, train=False, transform=transform)\n",
        "testloader = torch.utils.data.DataLoader(testset, batch_size=BATCH_SIZE, shuffle=False)"
      ]
    },
    {
      "cell_type": "markdown",
      "metadata": {
        "id": "Gz6bKcmDvyRb"
      },
      "source": [
        "### Model"
      ]
    },
    {
      "cell_type": "code",
      "execution_count": 7,
      "metadata": {
        "colab": {
          "base_uri": "https://localhost:8080/"
        },
        "id": "VOvop_bcxb2J",
        "outputId": "42d59562-2825-4314-ed1a-720824404207"
      },
      "outputs": [
        {
          "output_type": "stream",
          "name": "stdout",
          "text": [
            "Looking in indexes: https://pypi.org/simple, https://us-python.pkg.dev/colab-wheels/public/simple/\n",
            "Collecting transformer-implementations\n",
            "  Downloading transformer_implementations-0.0.9-py3-none-any.whl (9.4 kB)\n",
            "Installing collected packages: transformer-implementations\n",
            "Successfully installed transformer-implementations-0.0.9\n"
          ]
        }
      ],
      "source": [
        "pip install transformer-implementations"
      ]
    },
    {
      "cell_type": "code",
      "execution_count": 8,
      "metadata": {
        "colab": {
          "base_uri": "https://localhost:8080/"
        },
        "id": "bTBWO1ZzvsgN",
        "outputId": "9bbf3089-9afd-4f95-9834-3c2fbbee7757"
      },
      "outputs": [
        {
          "output_type": "execute_result",
          "data": {
            "text/plain": [
              "ViT(\n",
              "  (dropout_layer): Dropout(p=0.2, inplace=False)\n",
              "  (embeddings): Linear(in_features=49, out_features=512, bias=True)\n",
              "  (encoders): ModuleList(\n",
              "    (0): VisionEncoder(\n",
              "      (norm1): LayerNorm((512,), eps=1e-05, elementwise_affine=True)\n",
              "      (norm2): LayerNorm((512,), eps=1e-05, elementwise_affine=True)\n",
              "      (attention): MultiHeadAttention(\n",
              "        (dropout_layer): Dropout(p=0.2, inplace=False)\n",
              "        (Q): Linear(in_features=512, out_features=512, bias=True)\n",
              "        (K): Linear(in_features=512, out_features=512, bias=True)\n",
              "        (V): Linear(in_features=512, out_features=512, bias=True)\n",
              "        (linear): Linear(in_features=512, out_features=512, bias=True)\n",
              "      )\n",
              "      (mlp): Sequential(\n",
              "        (0): Linear(in_features=512, out_features=2048, bias=True)\n",
              "        (1): GELU(approximate=none)\n",
              "        (2): Dropout(p=0.2, inplace=False)\n",
              "        (3): Linear(in_features=2048, out_features=512, bias=True)\n",
              "        (4): Dropout(p=0.2, inplace=False)\n",
              "      )\n",
              "    )\n",
              "    (1): VisionEncoder(\n",
              "      (norm1): LayerNorm((512,), eps=1e-05, elementwise_affine=True)\n",
              "      (norm2): LayerNorm((512,), eps=1e-05, elementwise_affine=True)\n",
              "      (attention): MultiHeadAttention(\n",
              "        (dropout_layer): Dropout(p=0.2, inplace=False)\n",
              "        (Q): Linear(in_features=512, out_features=512, bias=True)\n",
              "        (K): Linear(in_features=512, out_features=512, bias=True)\n",
              "        (V): Linear(in_features=512, out_features=512, bias=True)\n",
              "        (linear): Linear(in_features=512, out_features=512, bias=True)\n",
              "      )\n",
              "      (mlp): Sequential(\n",
              "        (0): Linear(in_features=512, out_features=2048, bias=True)\n",
              "        (1): GELU(approximate=none)\n",
              "        (2): Dropout(p=0.2, inplace=False)\n",
              "        (3): Linear(in_features=2048, out_features=512, bias=True)\n",
              "        (4): Dropout(p=0.2, inplace=False)\n",
              "      )\n",
              "    )\n",
              "    (2): VisionEncoder(\n",
              "      (norm1): LayerNorm((512,), eps=1e-05, elementwise_affine=True)\n",
              "      (norm2): LayerNorm((512,), eps=1e-05, elementwise_affine=True)\n",
              "      (attention): MultiHeadAttention(\n",
              "        (dropout_layer): Dropout(p=0.2, inplace=False)\n",
              "        (Q): Linear(in_features=512, out_features=512, bias=True)\n",
              "        (K): Linear(in_features=512, out_features=512, bias=True)\n",
              "        (V): Linear(in_features=512, out_features=512, bias=True)\n",
              "        (linear): Linear(in_features=512, out_features=512, bias=True)\n",
              "      )\n",
              "      (mlp): Sequential(\n",
              "        (0): Linear(in_features=512, out_features=2048, bias=True)\n",
              "        (1): GELU(approximate=none)\n",
              "        (2): Dropout(p=0.2, inplace=False)\n",
              "        (3): Linear(in_features=2048, out_features=512, bias=True)\n",
              "        (4): Dropout(p=0.2, inplace=False)\n",
              "      )\n",
              "    )\n",
              "  )\n",
              "  (norm): LayerNorm((512,), eps=1e-05, elementwise_affine=True)\n",
              "  (classifier): Sequential(\n",
              "    (0): Linear(in_features=512, out_features=10, bias=True)\n",
              "  )\n",
              ")"
            ]
          },
          "metadata": {},
          "execution_count": 8
        }
      ],
      "source": [
        "from transformer_package.models import ViT\n",
        "\n",
        "image_size = 28\n",
        "channel_size = 1\n",
        "patch_size = 7\n",
        "embed_size = 512\n",
        "num_heads = 8\n",
        "classes = 10\n",
        "num_layers = 3\n",
        "hidden_size = 256\n",
        "dropout = 0.2\n",
        "\n",
        "model = ViT(image_size, channel_size, patch_size, embed_size, num_heads, classes, num_layers, hidden_size, dropout=dropout).to(device)\n",
        "model"
      ]
    },
    {
      "cell_type": "code",
      "execution_count": 9,
      "metadata": {
        "colab": {
          "base_uri": "https://localhost:8080/"
        },
        "id": "9Sg-_t_Qxj5o",
        "outputId": "9e0026b8-bfc3-489c-95e8-5b8e9f4aeaf1"
      },
      "outputs": [
        {
          "output_type": "stream",
          "name": "stdout",
          "text": [
            "Input Image Dimensions: torch.Size([64, 1, 28, 28])\n",
            "Label Dimensions: torch.Size([64])\n",
            "----------------------------------------------------------------------------------------------------\n",
            "Output Dimensions: torch.Size([64, 10])\n"
          ]
        }
      ],
      "source": [
        "for img, label in trainloader:\n",
        "    img = img.to(device)\n",
        "    label = label.to(device)\n",
        "    \n",
        "    print(\"Input Image Dimensions: {}\".format(img.size()))\n",
        "    print(\"Label Dimensions: {}\".format(label.size()))\n",
        "    print(\"-\"*100)\n",
        "    \n",
        "    out = model(img)\n",
        "    \n",
        "    print(\"Output Dimensions: {}\".format(out.size()))\n",
        "    break"
      ]
    },
    {
      "cell_type": "code",
      "execution_count": 10,
      "metadata": {
        "id": "0vqUdoBCxoi1"
      },
      "outputs": [],
      "source": [
        "criterion = nn.NLLLoss()\n",
        "optimizer = torch.optim.Adam(params=model.parameters(), lr=LR)"
      ]
    },
    {
      "cell_type": "code",
      "execution_count": 11,
      "metadata": {
        "colab": {
          "base_uri": "https://localhost:8080/"
        },
        "id": "4BttNEjexwKe",
        "outputId": "48a2b944-875c-4ede-a3a4-3fdfcda76d9c"
      },
      "outputs": [
        {
          "output_type": "stream",
          "name": "stdout",
          "text": [
            "-------------------------------------------------\n",
            "Epoch: 1 Train mean loss: 645.86589458\n",
            "       Train Accuracy%:  76.97666666666667 == 46186 / 60000\n",
            "-------------------------------------------------\n",
            "-------------------------------------------------\n",
            "Epoch: 2 Train mean loss: 223.12399724\n",
            "       Train Accuracy%:  92.60333333333334 == 55562 / 60000\n",
            "-------------------------------------------------\n",
            "-------------------------------------------------\n",
            "Epoch: 3 Train mean loss: 171.57279806\n",
            "       Train Accuracy%:  94.22 == 56532 / 60000\n",
            "-------------------------------------------------\n",
            "-------------------------------------------------\n",
            "Epoch: 4 Train mean loss: 146.85726491\n",
            "       Train Accuracy%:  95.01666666666667 == 57010 / 60000\n",
            "-------------------------------------------------\n",
            "-------------------------------------------------\n",
            "Epoch: 5 Train mean loss: 124.63873019\n",
            "       Train Accuracy%:  95.75833333333334 == 57455 / 60000\n",
            "-------------------------------------------------\n",
            "-------------------------------------------------\n",
            "Epoch: 6 Train mean loss: 110.20481977\n",
            "       Train Accuracy%:  96.29166666666667 == 57775 / 60000\n",
            "-------------------------------------------------\n",
            "-------------------------------------------------\n",
            "Epoch: 7 Train mean loss: 97.42551740\n",
            "       Train Accuracy%:  96.70833333333333 == 58025 / 60000\n",
            "-------------------------------------------------\n",
            "-------------------------------------------------\n",
            "Epoch: 8 Train mean loss: 89.06909322\n",
            "       Train Accuracy%:  96.88333333333334 == 58130 / 60000\n",
            "-------------------------------------------------\n",
            "-------------------------------------------------\n",
            "Epoch: 9 Train mean loss: 81.68059452\n",
            "       Train Accuracy%:  97.135 == 58281 / 60000\n",
            "-------------------------------------------------\n",
            "-------------------------------------------------\n",
            "Epoch: 10 Train mean loss: 74.56934270\n",
            "       Train Accuracy%:  97.38666666666667 == 58432 / 60000\n",
            "-------------------------------------------------\n",
            "-------------------------------------------------\n",
            "Epoch: 11 Train mean loss: 69.97715583\n",
            "       Train Accuracy%:  97.51833333333333 == 58511 / 60000\n",
            "-------------------------------------------------\n",
            "-------------------------------------------------\n",
            "Epoch: 12 Train mean loss: 62.56616868\n",
            "       Train Accuracy%:  97.82 == 58692 / 60000\n",
            "-------------------------------------------------\n",
            "-------------------------------------------------\n",
            "Epoch: 13 Train mean loss: 59.87074672\n",
            "       Train Accuracy%:  97.90166666666667 == 58741 / 60000\n",
            "-------------------------------------------------\n",
            "-------------------------------------------------\n",
            "Epoch: 14 Train mean loss: 57.75446180\n",
            "       Train Accuracy%:  97.98833333333333 == 58793 / 60000\n",
            "-------------------------------------------------\n",
            "-------------------------------------------------\n",
            "Epoch: 15 Train mean loss: 51.68437992\n",
            "       Train Accuracy%:  98.18333333333334 == 58910 / 60000\n",
            "-------------------------------------------------\n",
            "-------------------------------------------------\n",
            "Epoch: 16 Train mean loss: 50.02588620\n",
            "       Train Accuracy%:  98.24 == 58944 / 60000\n",
            "-------------------------------------------------\n",
            "-------------------------------------------------\n",
            "Epoch: 17 Train mean loss: 46.89762549\n",
            "       Train Accuracy%:  98.39833333333333 == 59039 / 60000\n",
            "-------------------------------------------------\n",
            "-------------------------------------------------\n",
            "Epoch: 18 Train mean loss: 44.65720068\n",
            "       Train Accuracy%:  98.40666666666667 == 59044 / 60000\n",
            "-------------------------------------------------\n",
            "-------------------------------------------------\n",
            "Epoch: 19 Train mean loss: 39.72551089\n",
            "       Train Accuracy%:  98.605 == 59163 / 60000\n",
            "-------------------------------------------------\n",
            "-------------------------------------------------\n",
            "Epoch: 20 Train mean loss: 40.01841331\n",
            "       Train Accuracy%:  98.56 == 59136 / 60000\n",
            "-------------------------------------------------\n",
            "-------------------------------------------------\n",
            "Epoch: 21 Train mean loss: 35.90081051\n",
            "       Train Accuracy%:  98.69 == 59214 / 60000\n",
            "-------------------------------------------------\n",
            "-------------------------------------------------\n",
            "Epoch: 22 Train mean loss: 34.56336697\n",
            "       Train Accuracy%:  98.745 == 59247 / 60000\n",
            "-------------------------------------------------\n",
            "-------------------------------------------------\n",
            "Epoch: 23 Train mean loss: 32.93517051\n",
            "       Train Accuracy%:  98.835 == 59301 / 60000\n",
            "-------------------------------------------------\n",
            "-------------------------------------------------\n",
            "Epoch: 24 Train mean loss: 32.16019186\n",
            "       Train Accuracy%:  98.85666666666667 == 59314 / 60000\n",
            "-------------------------------------------------\n",
            "-------------------------------------------------\n",
            "Epoch: 25 Train mean loss: 30.52579619\n",
            "       Train Accuracy%:  98.885 == 59331 / 60000\n",
            "-------------------------------------------------\n"
          ]
        }
      ],
      "source": [
        "loss_hist = {}\n",
        "loss_hist[\"train accuracy\"] = []\n",
        "loss_hist[\"train loss\"] = []\n",
        "\n",
        "for epoch in range(1, NUM_EPOCHES+1):\n",
        "    model.train()\n",
        "    \n",
        "    epoch_train_loss = 0\n",
        "        \n",
        "    y_true_train = []\n",
        "    y_pred_train = []\n",
        "        \n",
        "    for batch_idx, (img, labels) in enumerate(trainloader):\n",
        "        img = img.to(device)\n",
        "        labels = labels.to(device)\n",
        "        \n",
        "        preds = model(img)\n",
        "        \n",
        "        loss = criterion(preds, labels)\n",
        "        optimizer.zero_grad()\n",
        "        loss.backward()\n",
        "        optimizer.step()\n",
        "        \n",
        "        y_pred_train.extend(preds.detach().argmax(dim=-1).tolist())\n",
        "        y_true_train.extend(labels.detach().tolist())\n",
        "            \n",
        "        epoch_train_loss += loss.item()\n",
        "    \n",
        "    loss_hist[\"train loss\"].append(epoch_train_loss)\n",
        "    \n",
        "    total_correct = len([True for x, y in zip(y_pred_train, y_true_train) if x==y])\n",
        "    total = len(y_pred_train)\n",
        "    accuracy = total_correct * 100 / total\n",
        "    \n",
        "    loss_hist[\"train accuracy\"].append(accuracy)\n",
        "    \n",
        "    print(\"-------------------------------------------------\")\n",
        "    print(\"Epoch: {} Train mean loss: {:.8f}\".format(epoch, epoch_train_loss))\n",
        "    print(\"       Train Accuracy%: \", accuracy, \"==\", total_correct, \"/\", total)\n",
        "    print(\"-------------------------------------------------\")"
      ]
    },
    {
      "cell_type": "code",
      "execution_count": 12,
      "metadata": {
        "id": "rMOREZYHx3Lt",
        "colab": {
          "base_uri": "https://localhost:8080/",
          "height": 279
        },
        "outputId": "e382dd86-80a6-404d-8de6-7eba427bcdda"
      },
      "outputs": [
        {
          "output_type": "display_data",
          "data": {
            "text/plain": [
              "<Figure size 432x288 with 1 Axes>"
            ],
            "image/png": "[encoded data removed]"
          },
          "metadata": {
            "needs_background": "light"
          }
        }
      ],
      "source": [
        "plt.plot(loss_hist[\"train accuracy\"])\n",
        "plt.xlabel(\"Epoch\")\n",
        "plt.ylabel(\"Loss\")\n",
        "plt.show()"
      ]
    },
    {
      "cell_type": "code",
      "execution_count": 13,
      "metadata": {
        "id": "tI_NyzMTx4aQ",
        "colab": {
          "base_uri": "https://localhost:8080/",
          "height": 279
        },
        "outputId": "4fb1b0a3-faf5-4320-efb3-8176d57e050f"
      },
      "outputs": [
        {
          "output_type": "display_data",
          "data": {
            "text/plain": [
              "<Figure size 432x288 with 1 Axes>"
            ],
            "image/png": "[encoded data removed]"
          },
          "metadata": {
            "needs_background": "light"
          }
        }
      ],
      "source": [
        "plt.plot(loss_hist[\"train loss\"])\n",
        "plt.xlabel(\"Epoch\")\n",
        "plt.ylabel(\"Loss\")\n",
        "plt.show()"
      ]
    },
    {
      "cell_type": "code",
      "execution_count": 14,
      "metadata": {
        "id": "atdVKwarx-ch",
        "colab": {
          "base_uri": "https://localhost:8080/"
        },
        "outputId": "b78139e3-f681-46c9-f2d5-b52ffdc22421"
      },
      "outputs": [
        {
          "output_type": "stream",
          "name": "stdout",
          "text": [
            "Test Accuracy:  98.41 % == 9841 / 10000\n"
          ]
        }
      ],
      "source": [
        "with torch.no_grad():\n",
        "    model.eval()\n",
        "    \n",
        "    y_true_test = []\n",
        "    y_pred_test = []\n",
        "    \n",
        "    for batch_idx, (img, labels) in enumerate(testloader):\n",
        "        img = img.to(device)\n",
        "        label = label.to(device)\n",
        "    \n",
        "        preds = model(img)\n",
        "        \n",
        "        y_pred_test.extend(preds.detach().argmax(dim=-1).tolist())\n",
        "        y_true_test.extend(labels.detach().tolist())\n",
        "        \n",
        "    total_correct = len([True for x, y in zip(y_pred_test, y_true_test) if x==y])\n",
        "    total = len(y_pred_test)\n",
        "    accuracy = total_correct * 100 / total\n",
        "    \n",
        "    print(\"Test Accuracy: \", accuracy,\"%\", \"==\", total_correct, \"/\", total)"
      ]
    }
  ],
  "metadata": {
    "colab": {
      "provenance": []
    },
    "kernelspec": {
      "display_name": "Python 3",
      "name": "python3"
    },
    "language_info": {
      "name": "python"
    },
    "widgets": {
      "application/vnd.jupyter.widget-state+json": {
        "137016262163481486cf103262be23e7": {
          "model_module": "@jupyter-widgets/controls",
          "model_name": "HBoxModel",
          "model_module_version": "1.5.0",
          "state": {
            "_dom_classes": [],
            "_model_module": "@jupyter-widgets/controls",
            "_model_module_version": "1.5.0",
            "_model_name": "HBoxModel",
            "_view_count": null,
            "_view_module": "@jupyter-widgets/controls",
            "_view_module_version": "1.5.0",
            "_view_name": "HBoxView",
            "box_style": "",
            "children": [
              "IPY_MODEL_5fd0e0415bea4b2489e75f499f88c5db",
              "IPY_MODEL_3e37ee7390bd4fe6bd89b82b10485b09",
              "IPY_MODEL_571e8b8e2cda463db835a64c2c0da385"
            ],
            "layout": "IPY_MODEL_d8122195ba684abeab2f34176d95d0b5"
          }
        },
        "5fd0e0415bea4b2489e75f499f88c5db": {
          "model_module": "@jupyter-widgets/controls",
          "model_name": "HTMLModel",
          "model_module_version": "1.5.0",
          "state": {
            "_dom_classes": [],
            "_model_module": "@jupyter-widgets/controls",
            "_model_module_version": "1.5.0",
            "_model_name": "HTMLModel",
            "_view_count": null,
            "_view_module": "@jupyter-widgets/controls",
            "_view_module_version": "1.5.0",
            "_view_name": "HTMLView",
            "description": "",
            "description_tooltip": null,
            "layout": "IPY_MODEL_aeabbaf7cc2240bf816dfb7b01285d39",
            "placeholder": "​",
            "style": "IPY_MODEL_7d4139cd520b4513b723dfebd907cd23",
            "value": "100%"
          }
        },
        "3e37ee7390bd4fe6bd89b82b10485b09": {
          "model_module": "@jupyter-widgets/controls",
          "model_name": "FloatProgressModel",
          "model_module_version": "1.5.0",
          "state": {
            "_dom_classes": [],
            "_model_module": "@jupyter-widgets/controls",
            "_model_module_version": "1.5.0",
            "_model_name": "FloatProgressModel",
            "_view_count": null,
            "_view_module": "@jupyter-widgets/controls",
            "_view_module_version": "1.5.0",
            "_view_name": "ProgressView",
            "bar_style": "success",
            "description": "",
            "description_tooltip": null,
            "layout": "IPY_MODEL_154c655c88234501a488ed4584834260",
            "max": 9912422,
            "min": 0,
            "orientation": "horizontal",
            "style": "IPY_MODEL_2f4a5649e2fe4bfc9b0c104e986a33f9",
            "value": 9912422
          }
        },
        "571e8b8e2cda463db835a64c2c0da385": {
          "model_module": "@jupyter-widgets/controls",
          "model_name": "HTMLModel",
          "model_module_version": "1.5.0",
          "state": {
            "_dom_classes": [],
            "_model_module": "@jupyter-widgets/controls",
            "_model_module_version": "1.5.0",
            "_model_name": "HTMLModel",
            "_view_count": null,
            "_view_module": "@jupyter-widgets/controls",
            "_view_module_version": "1.5.0",
            "_view_name": "HTMLView",
            "description": "",
            "description_tooltip": null,
            "layout": "IPY_MODEL_f75184c4d8654d8dbe19a79afea70eeb",
            "placeholder": "​",
            "style": "IPY_MODEL_323248a407414cb884b9e67b08b2d0e2",
            "value": " 9912422/9912422 [00:00&lt;00:00, 115640668.23it/s]"
          }
        },
        "d8122195ba684abeab2f34176d95d0b5": {
          "model_module": "@jupyter-widgets/base",
          "model_name": "LayoutModel",
          "model_module_version": "1.2.0",
          "state": {
            "_model_module": "@jupyter-widgets/base",
            "_model_module_version": "1.2.0",
            "_model_name": "LayoutModel",
            "_view_count": null,
            "_view_module": "@jupyter-widgets/base",
            "_view_module_version": "1.2.0",
            "_view_name": "LayoutView",
            "align_content": null,
            "align_items": null,
            "align_self": null,
            "border": null,
            "bottom": null,
            "display": null,
            "flex": null,
            "flex_flow": null,
            "grid_area": null,
            "grid_auto_columns": null,
            "grid_auto_flow": null,
            "grid_auto_rows": null,
            "grid_column": null,
            "grid_gap": null,
            "grid_row": null,
            "grid_template_areas": null,
            "grid_template_columns": null,
            "grid_template_rows": null,
            "height": null,
            "justify_content": null,
            "justify_items": null,
            "left": null,
            "margin": null,
            "max_height": null,
            "max_width": null,
            "min_height": null,
            "min_width": null,
            "object_fit": null,
            "object_position": null,
            "order": null,
            "overflow": null,
            "overflow_x": null,
            "overflow_y": null,
            "padding": null,
            "right": null,
            "top": null,
            "visibility": null,
            "width": null
          }
        },
        "aeabbaf7cc2240bf816dfb7b01285d39": {
          "model_module": "@jupyter-widgets/base",
          "model_name": "LayoutModel",
          "model_module_version": "1.2.0",
          "state": {
            "_model_module": "@jupyter-widgets/base",
            "_model_module_version": "1.2.0",
            "_model_name": "LayoutModel",
            "_view_count": null,
            "_view_module": "@jupyter-widgets/base",
            "_view_module_version": "1.2.0",
            "_view_name": "LayoutView",
            "align_content": null,
            "align_items": null,
            "align_self": null,
            "border": null,
            "bottom": null,
            "display": null,
            "flex": null,
            "flex_flow": null,
            "grid_area": null,
            "grid_auto_columns": null,
            "grid_auto_flow": null,
            "grid_auto_rows": null,
            "grid_column": null,
            "grid_gap": null,
            "grid_row": null,
            "grid_template_areas": null,
            "grid_template_columns": null,
            "grid_template_rows": null,
            "height": null,
            "justify_content": null,
            "justify_items": null,
            "left": null,
            "margin": null,
            "max_height": null,
            "max_width": null,
            "min_height": null,
            "min_width": null,
            "object_fit": null,
            "object_position": null,
            "order": null,
            "overflow": null,
            "overflow_x": null,
            "overflow_y": null,
            "padding": null,
            "right": null,
            "top": null,
            "visibility": null,
            "width": null
          }
        },
        "7d4139cd520b4513b723dfebd907cd23": {
          "model_module": "@jupyter-widgets/controls",
          "model_name": "DescriptionStyleModel",
          "model_module_version": "1.5.0",
          "state": {
            "_model_module": "@jupyter-widgets/controls",
            "_model_module_version": "1.5.0",
            "_model_name": "DescriptionStyleModel",
            "_view_count": null,
            "_view_module": "@jupyter-widgets/base",
            "_view_module_version": "1.2.0",
            "_view_name": "StyleView",
            "description_width": ""
          }
        },
        "154c655c88234501a488ed4584834260": {
          "model_module": "@jupyter-widgets/base",
          "model_name": "LayoutModel",
          "model_module_version": "1.2.0",
          "state": {
            "_model_module": "@jupyter-widgets/base",
            "_model_module_version": "1.2.0",
            "_model_name": "LayoutModel",
            "_view_count": null,
            "_view_module": "@jupyter-widgets/base",
            "_view_module_version": "1.2.0",
            "_view_name": "LayoutView",
            "align_content": null,
            "align_items": null,
            "align_self": null,
            "border": null,
            "bottom": null,
            "display": null,
            "flex": null,
            "flex_flow": null,
            "grid_area": null,
            "grid_auto_columns": null,
            "grid_auto_flow": null,
            "grid_auto_rows": null,
            "grid_column": null,
            "grid_gap": null,
            "grid_row": null,
            "grid_template_areas": null,
            "grid_template_columns": null,
            "grid_template_rows": null,
            "height": null,
            "justify_content": null,
            "justify_items": null,
            "left": null,
            "margin": null,
            "max_height": null,
            "max_width": null,
            "min_height": null,
            "min_width": null,
            "object_fit": null,
            "object_position": null,
            "order": null,
            "overflow": null,
            "overflow_x": null,
            "overflow_y": null,
            "padding": null,
            "right": null,
            "top": null,
            "visibility": null,
            "width": null
          }
        },
        "2f4a5649e2fe4bfc9b0c104e986a33f9": {
          "model_module": "@jupyter-widgets/controls",
          "model_name": "ProgressStyleModel",
          "model_module_version": "1.5.0",
          "state": {
            "_model_module": "@jupyter-widgets/controls",
            "_model_module_version": "1.5.0",
            "_model_name": "ProgressStyleModel",
            "_view_count": null,
            "_view_module": "@jupyter-widgets/base",
            "_view_module_version": "1.2.0",
            "_view_name": "StyleView",
            "bar_color": null,
            "description_width": ""
          }
        },
        "f75184c4d8654d8dbe19a79afea70eeb": {
          "model_module": "@jupyter-widgets/base",
          "model_name": "LayoutModel",
          "model_module_version": "1.2.0",
          "state": {
            "_model_module": "@jupyter-widgets/base",
            "_model_module_version": "1.2.0",
            "_model_name": "LayoutModel",
            "_view_count": null,
            "_view_module": "@jupyter-widgets/base",
            "_view_module_version": "1.2.0",
            "_view_name": "LayoutView",
            "align_content": null,
            "align_items": null,
            "align_self": null,
            "border": null,
            "bottom": null,
            "display": null,
            "flex": null,
            "flex_flow": null,
            "grid_area": null,
            "grid_auto_columns": null,
            "grid_auto_flow": null,
            "grid_auto_rows": null,
            "grid_column": null,
            "grid_gap": null,
            "grid_row": null,
            "grid_template_areas": null,
            "grid_template_columns": null,
            "grid_template_rows": null,
            "height": null,
            "justify_content": null,
            "justify_items": null,
            "left": null,
            "margin": null,
            "max_height": null,
            "max_width": null,
            "min_height": null,
            "min_width": null,
            "object_fit": null,
            "object_position": null,
            "order": null,
            "overflow": null,
            "overflow_x": null,
            "overflow_y": null,
            "padding": null,
            "right": null,
            "top": null,
            "visibility": null,
            "width": null
          }
        },
        "323248a407414cb884b9e67b08b2d0e2": {
          "model_module": "@jupyter-widgets/controls",
          "model_name": "DescriptionStyleModel",
          "model_module_version": "1.5.0",
          "state": {
            "_model_module": "@jupyter-widgets/controls",
            "_model_module_version": "1.5.0",
            "_model_name": "DescriptionStyleModel",
            "_view_count": null,
            "_view_module": "@jupyter-widgets/base",
            "_view_module_version": "1.2.0",
            "_view_name": "StyleView",
            "description_width": ""
          }
        },
        "8c5c98af0ff7410f9a007def06622c17": {
          "model_module": "@jupyter-widgets/controls",
          "model_name": "HBoxModel",
          "model_module_version": "1.5.0",
          "state": {
            "_dom_classes": [],
            "_model_module": "@jupyter-widgets/controls",
            "_model_module_version": "1.5.0",
            "_model_name": "HBoxModel",
            "_view_count": null,
            "_view_module": "@jupyter-widgets/controls",
            "_view_module_version": "1.5.0",
            "_view_name": "HBoxView",
            "box_style": "",
            "children": [
              "IPY_MODEL_d61d5694ed894aadafbc6efad8901a11",
              "IPY_MODEL_0bdafdb95b474a70a94404dee7a601ab",
              "IPY_MODEL_7c7a4437865c4899aa07d938972a05eb"
            ],
            "layout": "IPY_MODEL_e45b5248608c46a1916e0dff43aed1e9"
          }
        },
        "d61d5694ed894aadafbc6efad8901a11": {
          "model_module": "@jupyter-widgets/controls",
          "model_name": "HTMLModel",
          "model_module_version": "1.5.0",
          "state": {
            "_dom_classes": [],
            "_model_module": "@jupyter-widgets/controls",
            "_model_module_version": "1.5.0",
            "_model_name": "HTMLModel",
            "_view_count": null,
            "_view_module": "@jupyter-widgets/controls",
            "_view_module_version": "1.5.0",
            "_view_name": "HTMLView",
            "description": "",
            "description_tooltip": null,
            "layout": "IPY_MODEL_b584b00d39be4298affb78def4dc4703",
            "placeholder": "​",
            "style": "IPY_MODEL_20233686ba784dbf8c55f0770fe03c24",
            "value": "100%"
          }
        },
        "0bdafdb95b474a70a94404dee7a601ab": {
          "model_module": "@jupyter-widgets/controls",
          "model_name": "FloatProgressModel",
          "model_module_version": "1.5.0",
          "state": {
            "_dom_classes": [],
            "_model_module": "@jupyter-widgets/controls",
            "_model_module_version": "1.5.0",
            "_model_name": "FloatProgressModel",
            "_view_count": null,
            "_view_module": "@jupyter-widgets/controls",
            "_view_module_version": "1.5.0",
            "_view_name": "ProgressView",
            "bar_style": "success",
            "description": "",
            "description_tooltip": null,
            "layout": "IPY_MODEL_6047cf009bb64102aa60646a6c883656",
            "max": 28881,
            "min": 0,
            "orientation": "horizontal",
            "style": "IPY_MODEL_6e9f655918544e579136450a86f2a627",
            "value": 28881
          }
        },
        "7c7a4437865c4899aa07d938972a05eb": {
          "model_module": "@jupyter-widgets/controls",
          "model_name": "HTMLModel",
          "model_module_version": "1.5.0",
          "state": {
            "_dom_classes": [],
            "_model_module": "@jupyter-widgets/controls",
            "_model_module_version": "1.5.0",
            "_model_name": "HTMLModel",
            "_view_count": null,
            "_view_module": "@jupyter-widgets/controls",
            "_view_module_version": "1.5.0",
            "_view_name": "HTMLView",
            "description": "",
            "description_tooltip": null,
            "layout": "IPY_MODEL_e4fb2ab84b2a42b1826dfdfd909cf63c",
            "placeholder": "​",
            "style": "IPY_MODEL_f91120d747b1416ebcbf2676deff6917",
            "value": " 28881/28881 [00:00&lt;00:00, 848883.63it/s]"
          }
        },
        "e45b5248608c46a1916e0dff43aed1e9": {
          "model_module": "@jupyter-widgets/base",
          "model_name": "LayoutModel",
          "model_module_version": "1.2.0",
          "state": {
            "_model_module": "@jupyter-widgets/base",
            "_model_module_version": "1.2.0",
            "_model_name": "LayoutModel",
            "_view_count": null,
            "_view_module": "@jupyter-widgets/base",
            "_view_module_version": "1.2.0",
            "_view_name": "LayoutView",
            "align_content": null,
            "align_items": null,
            "align_self": null,
            "border": null,
            "bottom": null,
            "display": null,
            "flex": null,
            "flex_flow": null,
            "grid_area": null,
            "grid_auto_columns": null,
            "grid_auto_flow": null,
            "grid_auto_rows": null,
            "grid_column": null,
            "grid_gap": null,
            "grid_row": null,
            "grid_template_areas": null,
            "grid_template_columns": null,
            "grid_template_rows": null,
            "height": null,
            "justify_content": null,
            "justify_items": null,
            "left": null,
            "margin": null,
            "max_height": null,
            "max_width": null,
            "min_height": null,
            "min_width": null,
            "object_fit": null,
            "object_position": null,
            "order": null,
            "overflow": null,
            "overflow_x": null,
            "overflow_y": null,
            "padding": null,
            "right": null,
            "top": null,
            "visibility": null,
            "width": null
          }
        },
        "b584b00d39be4298affb78def4dc4703": {
          "model_module": "@jupyter-widgets/base",
          "model_name": "LayoutModel",
          "model_module_version": "1.2.0",
          "state": {
            "_model_module": "@jupyter-widgets/base",
            "_model_module_version": "1.2.0",
            "_model_name": "LayoutModel",
            "_view_count": null,
            "_view_module": "@jupyter-widgets/base",
            "_view_module_version": "1.2.0",
            "_view_name": "LayoutView",
            "align_content": null,
            "align_items": null,
            "align_self": null,
            "border": null,
            "bottom": null,
            "display": null,
            "flex": null,
            "flex_flow": null,
            "grid_area": null,
            "grid_auto_columns": null,
            "grid_auto_flow": null,
            "grid_auto_rows": null,
            "grid_column": null,
            "grid_gap": null,
            "grid_row": null,
            "grid_template_areas": null,
            "grid_template_columns": null,
            "grid_template_rows": null,
            "height": null,
            "justify_content": null,
            "justify_items": null,
            "left": null,
            "margin": null,
            "max_height": null,
            "max_width": null,
            "min_height": null,
            "min_width": null,
            "object_fit": null,
            "object_position": null,
            "order": null,
            "overflow": null,
            "overflow_x": null,
            "overflow_y": null,
            "padding": null,
            "right": null,
            "top": null,
            "visibility": null,
            "width": null
          }
        },
        "20233686ba784dbf8c55f0770fe03c24": {
          "model_module": "@jupyter-widgets/controls",
          "model_name": "DescriptionStyleModel",
          "model_module_version": "1.5.0",
          "state": {
            "_model_module": "@jupyter-widgets/controls",
            "_model_module_version": "1.5.0",
            "_model_name": "DescriptionStyleModel",
            "_view_count": null,
            "_view_module": "@jupyter-widgets/base",
            "_view_module_version": "1.2.0",
            "_view_name": "StyleView",
            "description_width": ""
          }
        },
        "6047cf009bb64102aa60646a6c883656": {
          "model_module": "@jupyter-widgets/base",
          "model_name": "LayoutModel",
          "model_module_version": "1.2.0",
          "state": {
            "_model_module": "@jupyter-widgets/base",
            "_model_module_version": "1.2.0",
            "_model_name": "LayoutModel",
            "_view_count": null,
            "_view_module": "@jupyter-widgets/base",
            "_view_module_version": "1.2.0",
            "_view_name": "LayoutView",
            "align_content": null,
            "align_items": null,
            "align_self": null,
            "border": null,
            "bottom": null,
            "display": null,
            "flex": null,
            "flex_flow": null,
            "grid_area": null,
            "grid_auto_columns": null,
            "grid_auto_flow": null,
            "grid_auto_rows": null,
            "grid_column": null,
            "grid_gap": null,
            "grid_row": null,
            "grid_template_areas": null,
            "grid_template_columns": null,
            "grid_template_rows": null,
            "height": null,
            "justify_content": null,
            "justify_items": null,
            "left": null,
            "margin": null,
            "max_height": null,
            "max_width": null,
            "min_height": null,
            "min_width": null,
            "object_fit": null,
            "object_position": null,
            "order": null,
            "overflow": null,
            "overflow_x": null,
            "overflow_y": null,
            "padding": null,
            "right": null,
            "top": null,
            "visibility": null,
            "width": null
          }
        },
        "6e9f655918544e579136450a86f2a627": {
          "model_module": "@jupyter-widgets/controls",
          "model_name": "ProgressStyleModel",
          "model_module_version": "1.5.0",
          "state": {
            "_model_module": "@jupyter-widgets/controls",
            "_model_module_version": "1.5.0",
            "_model_name": "ProgressStyleModel",
            "_view_count": null,
            "_view_module": "@jupyter-widgets/base",
            "_view_module_version": "1.2.0",
            "_view_name": "StyleView",
            "bar_color": null,
            "description_width": ""
          }
        },
        "e4fb2ab84b2a42b1826dfdfd909cf63c": {
          "model_module": "@jupyter-widgets/base",
          "model_name": "LayoutModel",
          "model_module_version": "1.2.0",
          "state": {
            "_model_module": "@jupyter-widgets/base",
            "_model_module_version": "1.2.0",
            "_model_name": "LayoutModel",
            "_view_count": null,
            "_view_module": "@jupyter-widgets/base",
            "_view_module_version": "1.2.0",
            "_view_name": "LayoutView",
            "align_content": null,
            "align_items": null,
            "align_self": null,
            "border": null,
            "bottom": null,
            "display": null,
            "flex": null,
            "flex_flow": null,
            "grid_area": null,
            "grid_auto_columns": null,
            "grid_auto_flow": null,
            "grid_auto_rows": null,
            "grid_column": null,
            "grid_gap": null,
            "grid_row": null,
            "grid_template_areas": null,
            "grid_template_columns": null,
            "grid_template_rows": null,
            "height": null,
            "justify_content": null,
            "justify_items": null,
            "left": null,
            "margin": null,
            "max_height": null,
            "max_width": null,
            "min_height": null,
            "min_width": null,
            "object_fit": null,
            "object_position": null,
            "order": null,
            "overflow": null,
            "overflow_x": null,
            "overflow_y": null,
            "padding": null,
            "right": null,
            "top": null,
            "visibility": null,
            "width": null
          }
        },
        "f91120d747b1416ebcbf2676deff6917": {
          "model_module": "@jupyter-widgets/controls",
          "model_name": "DescriptionStyleModel",
          "model_module_version": "1.5.0",
          "state": {
            "_model_module": "@jupyter-widgets/controls",
            "_model_module_version": "1.5.0",
            "_model_name": "DescriptionStyleModel",
            "_view_count": null,
            "_view_module": "@jupyter-widgets/base",
            "_view_module_version": "1.2.0",
            "_view_name": "StyleView",
            "description_width": ""
          }
        },
        "26b0864cd8cc465bba292247553cf5cb": {
          "model_module": "@jupyter-widgets/controls",
          "model_name": "HBoxModel",
          "model_module_version": "1.5.0",
          "state": {
            "_dom_classes": [],
            "_model_module": "@jupyter-widgets/controls",
            "_model_module_version": "1.5.0",
            "_model_name": "HBoxModel",
            "_view_count": null,
            "_view_module": "@jupyter-widgets/controls",
            "_view_module_version": "1.5.0",
            "_view_name": "HBoxView",
            "box_style": "",
            "children": [
              "IPY_MODEL_ee3febfd78c44fccab7b7ac61dd85ac9",
              "IPY_MODEL_075d7d55a3d84a3c8e835edd706477e1",
              "IPY_MODEL_8bf6b4a6681749d0976116d0145109fe"
            ],
            "layout": "IPY_MODEL_3bcc06909f9749bb9c4c48e3271dbfa6"
          }
        },
        "ee3febfd78c44fccab7b7ac61dd85ac9": {
          "model_module": "@jupyter-widgets/controls",
          "model_name": "HTMLModel",
          "model_module_version": "1.5.0",
          "state": {
            "_dom_classes": [],
            "_model_module": "@jupyter-widgets/controls",
            "_model_module_version": "1.5.0",
            "_model_name": "HTMLModel",
            "_view_count": null,
            "_view_module": "@jupyter-widgets/controls",
            "_view_module_version": "1.5.0",
            "_view_name": "HTMLView",
            "description": "",
            "description_tooltip": null,
            "layout": "IPY_MODEL_962b041de7a54e0da6f4d9d3e501e672",
            "placeholder": "​",
            "style": "IPY_MODEL_89eafde24d2c4e338496b048351159ec",
            "value": "100%"
          }
        },
        "075d7d55a3d84a3c8e835edd706477e1": {
          "model_module": "@jupyter-widgets/controls",
          "model_name": "FloatProgressModel",
          "model_module_version": "1.5.0",
          "state": {
            "_dom_classes": [],
            "_model_module": "@jupyter-widgets/controls",
            "_model_module_version": "1.5.0",
            "_model_name": "FloatProgressModel",
            "_view_count": null,
            "_view_module": "@jupyter-widgets/controls",
            "_view_module_version": "1.5.0",
            "_view_name": "ProgressView",
            "bar_style": "success",
            "description": "",
            "description_tooltip": null,
            "layout": "IPY_MODEL_e30b2328e6b748739aa6cbd0138fd966",
            "max": 1648877,
            "min": 0,
            "orientation": "horizontal",
            "style": "IPY_MODEL_67d64dd47cf849938f3deb99fb559c12",
            "value": 1648877
          }
        },
        "8bf6b4a6681749d0976116d0145109fe": {
          "model_module": "@jupyter-widgets/controls",
          "model_name": "HTMLModel",
          "model_module_version": "1.5.0",
          "state": {
            "_dom_classes": [],
            "_model_module": "@jupyter-widgets/controls",
            "_model_module_version": "1.5.0",
            "_model_name": "HTMLModel",
            "_view_count": null,
            "_view_module": "@jupyter-widgets/controls",
            "_view_module_version": "1.5.0",
            "_view_name": "HTMLView",
            "description": "",
            "description_tooltip": null,
            "layout": "IPY_MODEL_5ec3666b68aa4e1d9aacaa044cd2d5dd",
            "placeholder": "​",
            "style": "IPY_MODEL_a4792c357d734c96a09f4e1bbd5d1a8b",
            "value": " 1648877/1648877 [00:00&lt;00:00, 30897412.35it/s]"
          }
        },
        "3bcc06909f9749bb9c4c48e3271dbfa6": {
          "model_module": "@jupyter-widgets/base",
          "model_name": "LayoutModel",
          "model_module_version": "1.2.0",
          "state": {
            "_model_module": "@jupyter-widgets/base",
            "_model_module_version": "1.2.0",
            "_model_name": "LayoutModel",
            "_view_count": null,
            "_view_module": "@jupyter-widgets/base",
            "_view_module_version": "1.2.0",
            "_view_name": "LayoutView",
            "align_content": null,
            "align_items": null,
            "align_self": null,
            "border": null,
            "bottom": null,
            "display": null,
            "flex": null,
            "flex_flow": null,
            "grid_area": null,
            "grid_auto_columns": null,
            "grid_auto_flow": null,
            "grid_auto_rows": null,
            "grid_column": null,
            "grid_gap": null,
            "grid_row": null,
            "grid_template_areas": null,
            "grid_template_columns": null,
            "grid_template_rows": null,
            "height": null,
            "justify_content": null,
            "justify_items": null,
            "left": null,
            "margin": null,
            "max_height": null,
            "max_width": null,
            "min_height": null,
            "min_width": null,
            "object_fit": null,
            "object_position": null,
            "order": null,
            "overflow": null,
            "overflow_x": null,
            "overflow_y": null,
            "padding": null,
            "right": null,
            "top": null,
            "visibility": null,
            "width": null
          }
        },
        "962b041de7a54e0da6f4d9d3e501e672": {
          "model_module": "@jupyter-widgets/base",
          "model_name": "LayoutModel",
          "model_module_version": "1.2.0",
          "state": {
            "_model_module": "@jupyter-widgets/base",
            "_model_module_version": "1.2.0",
            "_model_name": "LayoutModel",
            "_view_count": null,
            "_view_module": "@jupyter-widgets/base",
            "_view_module_version": "1.2.0",
            "_view_name": "LayoutView",
            "align_content": null,
            "align_items": null,
            "align_self": null,
            "border": null,
            "bottom": null,
            "display": null,
            "flex": null,
            "flex_flow": null,
            "grid_area": null,
            "grid_auto_columns": null,
            "grid_auto_flow": null,
            "grid_auto_rows": null,
            "grid_column": null,
            "grid_gap": null,
            "grid_row": null,
            "grid_template_areas": null,
            "grid_template_columns": null,
            "grid_template_rows": null,
            "height": null,
            "justify_content": null,
            "justify_items": null,
            "left": null,
            "margin": null,
            "max_height": null,
            "max_width": null,
            "min_height": null,
            "min_width": null,
            "object_fit": null,
            "object_position": null,
            "order": null,
            "overflow": null,
            "overflow_x": null,
            "overflow_y": null,
            "padding": null,
            "right": null,
            "top": null,
            "visibility": null,
            "width": null
          }
        },
        "89eafde24d2c4e338496b048351159ec": {
          "model_module": "@jupyter-widgets/controls",
          "model_name": "DescriptionStyleModel",
          "model_module_version": "1.5.0",
          "state": {
            "_model_module": "@jupyter-widgets/controls",
            "_model_module_version": "1.5.0",
            "_model_name": "DescriptionStyleModel",
            "_view_count": null,
            "_view_module": "@jupyter-widgets/base",
            "_view_module_version": "1.2.0",
            "_view_name": "StyleView",
            "description_width": ""
          }
        },
        "e30b2328e6b748739aa6cbd0138fd966": {
          "model_module": "@jupyter-widgets/base",
          "model_name": "LayoutModel",
          "model_module_version": "1.2.0",
          "state": {
            "_model_module": "@jupyter-widgets/base",
            "_model_module_version": "1.2.0",
            "_model_name": "LayoutModel",
            "_view_count": null,
            "_view_module": "@jupyter-widgets/base",
            "_view_module_version": "1.2.0",
            "_view_name": "LayoutView",
            "align_content": null,
            "align_items": null,
            "align_self": null,
            "border": null,
            "bottom": null,
            "display": null,
            "flex": null,
            "flex_flow": null,
            "grid_area": null,
            "grid_auto_columns": null,
            "grid_auto_flow": null,
            "grid_auto_rows": null,
            "grid_column": null,
            "grid_gap": null,
            "grid_row": null,
            "grid_template_areas": null,
            "grid_template_columns": null,
            "grid_template_rows": null,
            "height": null,
            "justify_content": null,
            "justify_items": null,
            "left": null,
            "margin": null,
            "max_height": null,
            "max_width": null,
            "min_height": null,
            "min_width": null,
            "object_fit": null,
            "object_position": null,
            "order": null,
            "overflow": null,
            "overflow_x": null,
            "overflow_y": null,
            "padding": null,
            "right": null,
            "top": null,
            "visibility": null,
            "width": null
          }
        },
        "67d64dd47cf849938f3deb99fb559c12": {
          "model_module": "@jupyter-widgets/controls",
          "model_name": "ProgressStyleModel",
          "model_module_version": "1.5.0",
          "state": {
            "_model_module": "@jupyter-widgets/controls",
            "_model_module_version": "1.5.0",
            "_model_name": "ProgressStyleModel",
            "_view_count": null,
            "_view_module": "@jupyter-widgets/base",
            "_view_module_version": "1.2.0",
            "_view_name": "StyleView",
            "bar_color": null,
            "description_width": ""
          }
        },
        "5ec3666b68aa4e1d9aacaa044cd2d5dd": {
          "model_module": "@jupyter-widgets/base",
          "model_name": "LayoutModel",
          "model_module_version": "1.2.0",
          "state": {
            "_model_module": "@jupyter-widgets/base",
            "_model_module_version": "1.2.0",
            "_model_name": "LayoutModel",
            "_view_count": null,
            "_view_module": "@jupyter-widgets/base",
            "_view_module_version": "1.2.0",
            "_view_name": "LayoutView",
            "align_content": null,
            "align_items": null,
            "align_self": null,
            "border": null,
            "bottom": null,
            "display": null,
            "flex": null,
            "flex_flow": null,
            "grid_area": null,
            "grid_auto_columns": null,
            "grid_auto_flow": null,
            "grid_auto_rows": null,
            "grid_column": null,
            "grid_gap": null,
            "grid_row": null,
            "grid_template_areas": null,
            "grid_template_columns": null,
            "grid_template_rows": null,
            "height": null,
            "justify_content": null,
            "justify_items": null,
            "left": null,
            "margin": null,
            "max_height": null,
            "max_width": null,
            "min_height": null,
            "min_width": null,
            "object_fit": null,
            "object_position": null,
            "order": null,
            "overflow": null,
            "overflow_x": null,
            "overflow_y": null,
            "padding": null,
            "right": null,
            "top": null,
            "visibility": null,
            "width": null
          }
        },
        "a4792c357d734c96a09f4e1bbd5d1a8b": {
          "model_module": "@jupyter-widgets/controls",
          "model_name": "DescriptionStyleModel",
          "model_module_version": "1.5.0",
          "state": {
            "_model_module": "@jupyter-widgets/controls",
            "_model_module_version": "1.5.0",
            "_model_name": "DescriptionStyleModel",
            "_view_count": null,
            "_view_module": "@jupyter-widgets/base",
            "_view_module_version": "1.2.0",
            "_view_name": "StyleView",
            "description_width": ""
          }
        },
        "117931523e99429e9d96c7a3e5159b8f": {
          "model_module": "@jupyter-widgets/controls",
          "model_name": "HBoxModel",
          "model_module_version": "1.5.0",
          "state": {
            "_dom_classes": [],
            "_model_module": "@jupyter-widgets/controls",
            "_model_module_version": "1.5.0",
            "_model_name": "HBoxModel",
            "_view_count": null,
            "_view_module": "@jupyter-widgets/controls",
            "_view_module_version": "1.5.0",
            "_view_name": "HBoxView",
            "box_style": "",
            "children": [
              "IPY_MODEL_6318b6d4a82240e3939bfb2eb5a8c9fe",
              "IPY_MODEL_85ad1dea228f40678cbcd2336e26e899",
              "IPY_MODEL_1f86e8bda4144cb2b199d5ff4a96623c"
            ],
            "layout": "IPY_MODEL_c2d7292d13ac410f94fec18af2dffa94"
          }
        },
        "6318b6d4a82240e3939bfb2eb5a8c9fe": {
          "model_module": "@jupyter-widgets/controls",
          "model_name": "HTMLModel",
          "model_module_version": "1.5.0",
          "state": {
            "_dom_classes": [],
            "_model_module": "@jupyter-widgets/controls",
            "_model_module_version": "1.5.0",
            "_model_name": "HTMLModel",
            "_view_count": null,
            "_view_module": "@jupyter-widgets/controls",
            "_view_module_version": "1.5.0",
            "_view_name": "HTMLView",
            "description": "",
            "description_tooltip": null,
            "layout": "IPY_MODEL_f4b6155ee34b4845bc91c92d62710ab5",
            "placeholder": "​",
            "style": "IPY_MODEL_79925a8ac9544a18bd23e3bc4dd11a6d",
            "value": "100%"
          }
        },
        "85ad1dea228f40678cbcd2336e26e899": {
          "model_module": "@jupyter-widgets/controls",
          "model_name": "FloatProgressModel",
          "model_module_version": "1.5.0",
          "state": {
            "_dom_classes": [],
            "_model_module": "@jupyter-widgets/controls",
            "_model_module_version": "1.5.0",
            "_model_name": "FloatProgressModel",
            "_view_count": null,
            "_view_module": "@jupyter-widgets/controls",
            "_view_module_version": "1.5.0",
            "_view_name": "ProgressView",
            "bar_style": "success",
            "description": "",
            "description_tooltip": null,
            "layout": "IPY_MODEL_c761cd8e072a49c88296967c5b9eef07",
            "max": 4542,
            "min": 0,
            "orientation": "horizontal",
            "style": "IPY_MODEL_54521c401734413289cb4536ff3df443",
            "value": 4542
          }
        },
        "1f86e8bda4144cb2b199d5ff4a96623c": {
          "model_module": "@jupyter-widgets/controls",
          "model_name": "HTMLModel",
          "model_module_version": "1.5.0",
          "state": {
            "_dom_classes": [],
            "_model_module": "@jupyter-widgets/controls",
            "_model_module_version": "1.5.0",
            "_model_name": "HTMLModel",
            "_view_count": null,
            "_view_module": "@jupyter-widgets/controls",
            "_view_module_version": "1.5.0",
            "_view_name": "HTMLView",
            "description": "",
            "description_tooltip": null,
            "layout": "IPY_MODEL_1579eff8ef124e358d7ede1a54ecc5c3",
            "placeholder": "​",
            "style": "IPY_MODEL_d17c1c93050f435695c3182d832440ee",
            "value": " 4542/4542 [00:00&lt;00:00, 119502.74it/s]"
          }
        },
        "c2d7292d13ac410f94fec18af2dffa94": {
          "model_module": "@jupyter-widgets/base",
          "model_name": "LayoutModel",
          "model_module_version": "1.2.0",
          "state": {
            "_model_module": "@jupyter-widgets/base",
            "_model_module_version": "1.2.0",
            "_model_name": "LayoutModel",
            "_view_count": null,
            "_view_module": "@jupyter-widgets/base",
            "_view_module_version": "1.2.0",
            "_view_name": "LayoutView",
            "align_content": null,
            "align_items": null,
            "align_self": null,
            "border": null,
            "bottom": null,
            "display": null,
            "flex": null,
            "flex_flow": null,
            "grid_area": null,
            "grid_auto_columns": null,
            "grid_auto_flow": null,
            "grid_auto_rows": null,
            "grid_column": null,
            "grid_gap": null,
            "grid_row": null,
            "grid_template_areas": null,
            "grid_template_columns": null,
            "grid_template_rows": null,
            "height": null,
            "justify_content": null,
            "justify_items": null,
            "left": null,
            "margin": null,
            "max_height": null,
            "max_width": null,
            "min_height": null,
            "min_width": null,
            "object_fit": null,
            "object_position": null,
            "order": null,
            "overflow": null,
            "overflow_x": null,
            "overflow_y": null,
            "padding": null,
            "right": null,
            "top": null,
            "visibility": null,
            "width": null
          }
        },
        "f4b6155ee34b4845bc91c92d62710ab5": {
          "model_module": "@jupyter-widgets/base",
          "model_name": "LayoutModel",
          "model_module_version": "1.2.0",
          "state": {
            "_model_module": "@jupyter-widgets/base",
            "_model_module_version": "1.2.0",
            "_model_name": "LayoutModel",
            "_view_count": null,
            "_view_module": "@jupyter-widgets/base",
            "_view_module_version": "1.2.0",
            "_view_name": "LayoutView",
            "align_content": null,
            "align_items": null,
            "align_self": null,
            "border": null,
            "bottom": null,
            "display": null,
            "flex": null,
            "flex_flow": null,
            "grid_area": null,
            "grid_auto_columns": null,
            "grid_auto_flow": null,
            "grid_auto_rows": null,
            "grid_column": null,
            "grid_gap": null,
            "grid_row": null,
            "grid_template_areas": null,
            "grid_template_columns": null,
            "grid_template_rows": null,
            "height": null,
            "justify_content": null,
            "justify_items": null,
            "left": null,
            "margin": null,
            "max_height": null,
            "max_width": null,
            "min_height": null,
            "min_width": null,
            "object_fit": null,
            "object_position": null,
            "order": null,
            "overflow": null,
            "overflow_x": null,
            "overflow_y": null,
            "padding": null,
            "right": null,
            "top": null,
            "visibility": null,
            "width": null
          }
        },
        "79925a8ac9544a18bd23e3bc4dd11a6d": {
          "model_module": "@jupyter-widgets/controls",
          "model_name": "DescriptionStyleModel",
          "model_module_version": "1.5.0",
          "state": {
            "_model_module": "@jupyter-widgets/controls",
            "_model_module_version": "1.5.0",
            "_model_name": "DescriptionStyleModel",
            "_view_count": null,
            "_view_module": "@jupyter-widgets/base",
            "_view_module_version": "1.2.0",
            "_view_name": "StyleView",
            "description_width": ""
          }
        },
        "c761cd8e072a49c88296967c5b9eef07": {
          "model_module": "@jupyter-widgets/base",
          "model_name": "LayoutModel",
          "model_module_version": "1.2.0",
          "state": {
            "_model_module": "@jupyter-widgets/base",
            "_model_module_version": "1.2.0",
            "_model_name": "LayoutModel",
            "_view_count": null,
            "_view_module": "@jupyter-widgets/base",
            "_view_module_version": "1.2.0",
            "_view_name": "LayoutView",
            "align_content": null,
            "align_items": null,
            "align_self": null,
            "border": null,
            "bottom": null,
            "display": null,
            "flex": null,
            "flex_flow": null,
            "grid_area": null,
            "grid_auto_columns": null,
            "grid_auto_flow": null,
            "grid_auto_rows": null,
            "grid_column": null,
            "grid_gap": null,
            "grid_row": null,
            "grid_template_areas": null,
            "grid_template_columns": null,
            "grid_template_rows": null,
            "height": null,
            "justify_content": null,
            "justify_items": null,
            "left": null,
            "margin": null,
            "max_height": null,
            "max_width": null,
            "min_height": null,
            "min_width": null,
            "object_fit": null,
            "object_position": null,
            "order": null,
            "overflow": null,
            "overflow_x": null,
            "overflow_y": null,
            "padding": null,
            "right": null,
            "top": null,
            "visibility": null,
            "width": null
          }
        },
        "54521c401734413289cb4536ff3df443": {
          "model_module": "@jupyter-widgets/controls",
          "model_name": "ProgressStyleModel",
          "model_module_version": "1.5.0",
          "state": {
            "_model_module": "@jupyter-widgets/controls",
            "_model_module_version": "1.5.0",
            "_model_name": "ProgressStyleModel",
            "_view_count": null,
            "_view_module": "@jupyter-widgets/base",
            "_view_module_version": "1.2.0",
            "_view_name": "StyleView",
            "bar_color": null,
            "description_width": ""
          }
        },
        "1579eff8ef124e358d7ede1a54ecc5c3": {
          "model_module": "@jupyter-widgets/base",
          "model_name": "LayoutModel",
          "model_module_version": "1.2.0",
          "state": {
            "_model_module": "@jupyter-widgets/base",
            "_model_module_version": "1.2.0",
            "_model_name": "LayoutModel",
            "_view_count": null,
            "_view_module": "@jupyter-widgets/base",
            "_view_module_version": "1.2.0",
            "_view_name": "LayoutView",
            "align_content": null,
            "align_items": null,
            "align_self": null,
            "border": null,
            "bottom": null,
            "display": null,
            "flex": null,
            "flex_flow": null,
            "grid_area": null,
            "grid_auto_columns": null,
            "grid_auto_flow": null,
            "grid_auto_rows": null,
            "grid_column": null,
            "grid_gap": null,
            "grid_row": null,
            "grid_template_areas": null,
            "grid_template_columns": null,
            "grid_template_rows": null,
            "height": null,
            "justify_content": null,
            "justify_items": null,
            "left": null,
            "margin": null,
            "max_height": null,
            "max_width": null,
            "min_height": null,
            "min_width": null,
            "object_fit": null,
            "object_position": null,
            "order": null,
            "overflow": null,
            "overflow_x": null,
            "overflow_y": null,
            "padding": null,
            "right": null,
            "top": null,
            "visibility": null,
            "width": null
          }
        },
        "d17c1c93050f435695c3182d832440ee": {
          "model_module": "@jupyter-widgets/controls",
          "model_name": "DescriptionStyleModel",
          "model_module_version": "1.5.0",
          "state": {
            "_model_module": "@jupyter-widgets/controls",
            "_model_module_version": "1.5.0",
            "_model_name": "DescriptionStyleModel",
            "_view_count": null,
            "_view_module": "@jupyter-widgets/base",
            "_view_module_version": "1.2.0",
            "_view_name": "StyleView",
            "description_width": ""
          }
        }
      }
    },
    "accelerator": "GPU",
    "gpuClass": "standard"
  },
  "nbformat": 4,
  "nbformat_minor": 0
}